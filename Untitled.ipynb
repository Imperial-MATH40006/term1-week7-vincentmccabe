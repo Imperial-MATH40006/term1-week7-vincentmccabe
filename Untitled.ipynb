{
 "cells": [
  {
   "cell_type": "code",
   "execution_count": 9,
   "id": "99e96ddf-3733-4103-90ed-6d987b6cc2a0",
   "metadata": {},
   "outputs": [
    {
     "name": "stdout",
     "output_type": "stream",
     "text": [
      "314159265358979298633771398082871756324864\n"
     ]
    }
   ],
   "source": [
    "from math import pi\n",
    "print(int(100000000000000000000000000000000000000000*pi))"
   ]
  },
  {
   "cell_type": "code",
   "execution_count": null,
   "id": "65f0f2b1-4dcb-40e0-9f14-f1c6bb853fe9",
   "metadata": {},
   "outputs": [],
   "source": []
  }
 ],
 "metadata": {
  "kernelspec": {
   "display_name": "Python 3 (ipykernel)",
   "language": "python",
   "name": "python3"
  },
  "language_info": {
   "codemirror_mode": {
    "name": "ipython",
    "version": 3
   },
   "file_extension": ".py",
   "mimetype": "text/x-python",
   "name": "python",
   "nbconvert_exporter": "python",
   "pygments_lexer": "ipython3",
   "version": "3.12.7"
  }
 },
 "nbformat": 4,
 "nbformat_minor": 5
}
